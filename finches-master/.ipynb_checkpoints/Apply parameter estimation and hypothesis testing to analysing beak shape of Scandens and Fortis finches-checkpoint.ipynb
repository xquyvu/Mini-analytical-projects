{
 "cells": [
  {
   "cell_type": "markdown",
   "metadata": {},
   "source": [
    "# Apply parameter estimation and hypothesis testing to analysing beak shape of Scandens and Fortis finches\n"
   ]
  },
  {
   "cell_type": "markdown",
   "metadata": {},
   "source": [
    "### Import libraries"
   ]
  },
  {
   "cell_type": "code",
   "execution_count": 1,
   "metadata": {},
   "outputs": [],
   "source": [
    "import pandas as pd\n",
    "import numpy as np\n",
    "import matplotlib.pyplot as plt\n",
    "import os\n",
    "import seaborn as sns\n",
    "import re\n",
    "\n",
    "% matplotlib inline\n",
    "plt.style.use('seaborn')"
   ]
  },
  {
   "cell_type": "markdown",
   "metadata": {},
   "source": [
    "### Load data"
   ]
  },
  {
   "cell_type": "code",
   "execution_count": 2,
   "metadata": {},
   "outputs": [],
   "source": [
    "def load_data(file_list):\n",
    "    # Initialise\n",
    "    data_list = []\n",
    "    \n",
    "    for file_name in file_list:\n",
    "        # Read csv\n",
    "        frame = pd.read_csv(file_name, index_col = 0)\n",
    "        \n",
    "        # Get year from file name\n",
    "        frame['year'] = int(re.split(r'[., _]', file_name)[2])\n",
    "        \n",
    "        # Store to list\n",
    "        data_list.append(frame)\n",
    "        \n",
    "    return pd.concat(data_list)"
   ]
  },
  {
   "cell_type": "code",
   "execution_count": 3,
   "metadata": {},
   "outputs": [],
   "source": [
    "df = load_data(file_list = ['finch_beaks_1975.csv', 'finch_beaks_2012.csv'])"
   ]
  },
  {
   "cell_type": "code",
   "execution_count": 4,
   "metadata": {},
   "outputs": [
    {
     "data": {
      "text/html": [
       "<div>\n",
       "<style scoped>\n",
       "    .dataframe tbody tr th:only-of-type {\n",
       "        vertical-align: middle;\n",
       "    }\n",
       "\n",
       "    .dataframe tbody tr th {\n",
       "        vertical-align: top;\n",
       "    }\n",
       "\n",
       "    .dataframe thead th {\n",
       "        text-align: right;\n",
       "    }\n",
       "</style>\n",
       "<table border=\"1\" class=\"dataframe\">\n",
       "  <thead>\n",
       "    <tr style=\"text-align: right;\">\n",
       "      <th></th>\n",
       "      <th>band</th>\n",
       "      <th>species</th>\n",
       "      <th>blength</th>\n",
       "      <th>bdepth</th>\n",
       "      <th>year</th>\n",
       "    </tr>\n",
       "  </thead>\n",
       "  <tbody>\n",
       "    <tr>\n",
       "      <th>0</th>\n",
       "      <td>2</td>\n",
       "      <td>fortis</td>\n",
       "      <td>9.4</td>\n",
       "      <td>8.0</td>\n",
       "      <td>1975</td>\n",
       "    </tr>\n",
       "    <tr>\n",
       "      <th>1</th>\n",
       "      <td>9</td>\n",
       "      <td>fortis</td>\n",
       "      <td>9.2</td>\n",
       "      <td>8.3</td>\n",
       "      <td>1975</td>\n",
       "    </tr>\n",
       "    <tr>\n",
       "      <th>2</th>\n",
       "      <td>12</td>\n",
       "      <td>fortis</td>\n",
       "      <td>9.5</td>\n",
       "      <td>7.5</td>\n",
       "      <td>1975</td>\n",
       "    </tr>\n",
       "    <tr>\n",
       "      <th>3</th>\n",
       "      <td>15</td>\n",
       "      <td>fortis</td>\n",
       "      <td>9.5</td>\n",
       "      <td>8.0</td>\n",
       "      <td>1975</td>\n",
       "    </tr>\n",
       "    <tr>\n",
       "      <th>4</th>\n",
       "      <td>305</td>\n",
       "      <td>fortis</td>\n",
       "      <td>11.5</td>\n",
       "      <td>9.9</td>\n",
       "      <td>1975</td>\n",
       "    </tr>\n",
       "  </tbody>\n",
       "</table>\n",
       "</div>"
      ],
      "text/plain": [
       "   band species  blength  bdepth  year\n",
       "0     2  fortis      9.4     8.0  1975\n",
       "1     9  fortis      9.2     8.3  1975\n",
       "2    12  fortis      9.5     7.5  1975\n",
       "3    15  fortis      9.5     8.0  1975\n",
       "4   305  fortis     11.5     9.9  1975"
      ]
     },
     "execution_count": 4,
     "metadata": {},
     "output_type": "execute_result"
    }
   ],
   "source": [
    "df.head()"
   ]
  },
  {
   "cell_type": "code",
   "execution_count": 5,
   "metadata": {},
   "outputs": [],
   "source": [
    "# Filter out only scandens\n",
    "scandens = df[df['species'] == 'scandens']"
   ]
  },
  {
   "cell_type": "markdown",
   "metadata": {},
   "source": [
    "## 1. Beak depth"
   ]
  },
  {
   "cell_type": "markdown",
   "metadata": {},
   "source": [
    "### 1.1. Quick EDA"
   ]
  },
  {
   "cell_type": "code",
   "execution_count": 6,
   "metadata": {},
   "outputs": [
    {
     "data": {
      "image/png": "[encoded data removed]",
      "text/plain": [
       "<Figure size 432x288 with 1 Axes>"
      ]
     },
     "metadata": {},
     "output_type": "display_data"
    }
   ],
   "source": [
    "# Create bee swarm plot\n",
    "plt.figure()\n",
    "sns.swarmplot(data=scandens, x='year', y='bdepth')\n",
    "plt.title('Beak depth in 1975 and 2012')\n",
    "plt.xlabel('Year')\n",
    "plt.ylabel('Beak depth (mm)')\n",
    "plt.show()"
   ]
  },
  {
   "cell_type": "markdown",
   "metadata": {},
   "source": [
    "It is kind of hard to see if there is a clear difference between the 1975 and 2012 data set. But the 2012 data appears to have a slightly higher mean and variance. \n",
    "\n",
    "Let's plot their empirical cumulative distributions"
   ]
  },
  {
   "cell_type": "code",
   "execution_count": 7,
   "metadata": {},
   "outputs": [],
   "source": [
    "def ecdf(array):\n",
    "    \"\"\" Return the x and y for plotting empirical cumulative distribution of an array \"\"\"\n",
    "    x = np.sort(array)\n",
    "    y = np.arange(1, len(array)+1)/float(len(array))\n",
    "    return x,y\n",
    "\n",
    "def get_beak_measure(frame, measure, year):\n",
    "    \"\"\" Get beak depths recorded on a year \"\"\"\n",
    "    return frame.loc[frame['year'] == year, measure]"
   ]
  },
  {
   "cell_type": "code",
   "execution_count": 8,
   "metadata": {},
   "outputs": [
    {
     "data": {
      "image/png": "[encoded data removed]",
      "text/plain": [
       "<Figure size 432x288 with 1 Axes>"
      ]
     },
     "metadata": {},
     "output_type": "display_data"
    }
   ],
   "source": [
    "# Get beak depths:\n",
    "bd_1975 = get_beak_measure(scandens, 'bdepth', 1975) \n",
    "bd_2012 = get_beak_measure(scandens, 'bdepth', 2012)\n",
    "\n",
    "# Could've written everything twice instead of getting the beak depths again, but not today\n",
    "for year in [1975, 2012]:\n",
    "    # Get beak depth for that year\n",
    "    bd = get_beak_measure(scandens, 'bdepth', year)\n",
    "    \n",
    "    # Compute x and y for ecdf\n",
    "    x, y = ecdf(bd)\n",
    "    \n",
    "    # Plot\n",
    "    plt.scatter(x, y, s = 5, label = year)\n",
    "\n",
    "# Polish\n",
    "plt.title('ECDF for 1975 and 2012 data')\n",
    "plt.xlabel('beak depth (mm)')\n",
    "plt.ylabel('prob')\n",
    "plt.legend()\n",
    "plt.show()"
   ]
  },
  {
   "cell_type": "markdown",
   "metadata": {},
   "source": [
    "Visually, it appears that the records in 1975 have higher mean and variance. Let's actually compute them."
   ]
  },
  {
   "cell_type": "code",
   "execution_count": 9,
   "metadata": {},
   "outputs": [
    {
     "name": "stdout",
     "output_type": "stream",
     "text": [
      "Mean for 1975 : 8.96\n",
      "Standard deviation for 1975 : 0.5633\n",
      "\n",
      "Mean for 2012 : 9.1862\n",
      "Standard deviation for 2012 : 0.6666\n",
      "\n"
     ]
    }
   ],
   "source": [
    "for bd, year in zip([bd_1975, bd_2012],[1975, 2012]):  \n",
    "    # Compute mean\n",
    "    print('Mean for {} : {}'.format(year, np.round(np.mean(bd),4)))\n",
    "    \n",
    "    # Compute standard deviation\n",
    "    print('Standard deviation for {} : {}'.format(year, np.round(np.std(bd),4)))\n",
    "    print('')"
   ]
  },
  {
   "cell_type": "markdown",
   "metadata": {},
   "source": [
    "We can see the difference in the means and standard deviations of these 2 years, but they're quite close! How can we be sure about the significance of this difference? Let's answer this question by parameter estimation."
   ]
  },
  {
   "cell_type": "markdown",
   "metadata": {},
   "source": [
    "### 1.2. Parameter estimation"
   ]
  },
  {
   "cell_type": "markdown",
   "metadata": {},
   "source": [
    "Let's estimate the difference of the mean beak depth of the G. scandens samples from 1975 and 2012 and report a 95% confidence interval."
   ]
  },
  {
   "cell_type": "code",
   "execution_count": 10,
   "metadata": {},
   "outputs": [],
   "source": [
    "def draw_bs_reps(array, func, n_experiments = 1):\n",
    "    \"\"\" Draw bootstrap replicates \"\"\"\n",
    "    \n",
    "    def compute_sample_statistics(array, func):\n",
    "        \"\"\" Apply a function to a bootstrap replicates of a 1d array \"\"\"\n",
    "        return func(np.random.choice(array, size = len(array)))\n",
    "\n",
    "    # Initialize an empty array to store bootstrap replicates\n",
    "    bs_replicates = np.empty(n_experiments)\n",
    "\n",
    "    # Sampling\n",
    "    for i in range(n_experiments):\n",
    "        bs_replicates[i] = compute_sample_statistics(array, func)\n",
    "\n",
    "    return bs_replicates"
   ]
  },
  {
   "cell_type": "code",
   "execution_count": 11,
   "metadata": {},
   "outputs": [
    {
     "name": "stdout",
     "output_type": "stream",
     "text": [
      "Mean difference = 0.2262204724409429 mm\n",
      "95% confidence interval = [0.06141707 0.3918213 ] mm\n"
     ]
    }
   ],
   "source": [
    "# Compute the difference between the 2 means\n",
    "mean_diff = np.mean(bd_2012) - np.mean(bd_1975) \n",
    "\n",
    "# Draw bootstrap replicates\n",
    "bs_replicates_1975 = draw_bs_reps(bd_1975, np.mean, 10000)\n",
    "bs_replicates_2012 = draw_bs_reps(bd_2012, np.mean, 10000)\n",
    "\n",
    "# Compute samples of difference of means: bs_diff_replicates\n",
    "bs_diff_replicates = bs_replicates_2012 - bs_replicates_1975\n",
    "\n",
    "# Compute 95% confidence interval: conf_int\n",
    "conf_int = np.percentile(bs_diff_replicates, [2.5, 97.5])\n",
    "\n",
    "# Print the results\n",
    "print('Mean difference = {} mm'.format(mean_diff))\n",
    "print('95% confidence interval = {} mm'.format(conf_int))"
   ]
  },
  {
   "cell_type": "markdown",
   "metadata": {},
   "source": [
    "There it is. The beaks were deeper in 2012. Let's do a hypothesis test to see if this effect is due to random chance or not."
   ]
  },
  {
   "cell_type": "markdown",
   "metadata": {},
   "source": [
    "### 1.3. Hypothesis testing"
   ]
  },
  {
   "cell_type": "markdown",
   "metadata": {},
   "source": [
    "The null hypothesis and the alternative hypothesis are as follow\n",
    "- $H_0$: The average beak depths in 1975 and 2012 are equal\n",
    "- $H_1$: The average beak depths in 1975 and 2012 are not equal"
   ]
  },
  {
   "cell_type": "code",
   "execution_count": 12,
   "metadata": {},
   "outputs": [
    {
     "name": "stdout",
     "output_type": "stream",
     "text": [
      "p-value: 0.0027\n"
     ]
    }
   ],
   "source": [
    "# Shift the mean of the 2 distributions to zero\n",
    "bd_1975_shifted = bd_1975 - np.mean(bd_1975)\n",
    "bd_2012_shifted = bd_2012 - np.mean(bd_2012)\n",
    "\n",
    "# Draw bootstrap replicates\n",
    "bs_replicates_1975 = draw_bs_reps(bd_1975_shifted, np.mean, 10000)\n",
    "bs_replicates_2012 = draw_bs_reps(bd_2012_shifted, np.mean, 10000)\n",
    "\n",
    "# Compute mean difference of the 2 sampled distribution\n",
    "bs_diff_replicates = bs_replicates_2012 - bs_replicates_1975\n",
    "\n",
    "# Compute p-value\n",
    "p_value = np.sum(bs_diff_replicates >= mean_diff) / len(bs_diff_replicates)\n",
    "\n",
    "# Print p-value\n",
    "print('p-value: {}'.format(p_value))\n"
   ]
  },
  {
   "cell_type": "markdown",
   "metadata": {},
   "source": [
    "At a confidence level of 95%, the p-value should be less than 0.05 to imply statistical significant. Therefore, we can conclude that the average beak depths in 1975 and 2012 are indeed different, not due to random chance."
   ]
  },
  {
   "cell_type": "markdown",
   "metadata": {},
   "source": [
    "## 2. Beak shape (Length and depth)"
   ]
  },
  {
   "cell_type": "code",
   "execution_count": 13,
   "metadata": {},
   "outputs": [],
   "source": [
    "# Get beak length\n",
    "bl_1975 = get_beak_measure(scandens, 'blength', 1975)\n",
    "bl_2012 = get_beak_measure(scandens, 'blength', 2012)"
   ]
  },
  {
   "cell_type": "markdown",
   "metadata": {},
   "source": [
    "### 2.1. Quick EDA"
   ]
  },
  {
   "cell_type": "markdown",
   "metadata": {},
   "source": [
    "Let's compare the beak length and depth in 1975 and 2012. "
   ]
  },
  {
   "cell_type": "code",
   "execution_count": 14,
   "metadata": {},
   "outputs": [],
   "source": [
    "# Set up lists\n",
    "bl_list = [bl_1975, bl_2012]\n",
    "bd_list = [bd_1975, bd_2012]\n",
    "year_list = [1975, 2012]\n",
    "line_color_list = ['red', 'blue']"
   ]
  },
  {
   "cell_type": "code",
   "execution_count": 15,
   "metadata": {},
   "outputs": [
    {
     "data": {
      "image/png": "[encoded data removed]",
      "text/plain": [
       "<Figure size 432x288 with 1 Axes>"
      ]
     },
     "metadata": {},
     "output_type": "display_data"
    }
   ],
   "source": [
    "for bl, bd in zip(bl_list, bd_list):\n",
    "    # Scatter\n",
    "    plt.scatter(bl, bd, s = 30)\n",
    "\n",
    "# Polish\n",
    "plt.xlabel('beak length (mm)')\n",
    "plt.ylabel('beak depth (mm)')\n",
    "plt.legend(('1975', '2012'), loc=2)\n",
    "plt.show()"
   ]
  },
  {
   "cell_type": "markdown",
   "metadata": {},
   "source": [
    "The data for 2 years nearly overlap. But it appears that beaks got deeper a bit in 2012 (which we found out in the previous section). Interestingly, beaks seems to get shorter as well. \n",
    "\n",
    "Let's do a linear regression to encapsulate this in a more formal way."
   ]
  },
  {
   "cell_type": "markdown",
   "metadata": {},
   "source": [
    "### 2.2. Parameter estimation"
   ]
  },
  {
   "cell_type": "markdown",
   "metadata": {},
   "source": [
    "#### 2.2.1. Correlation"
   ]
  },
  {
   "cell_type": "code",
   "execution_count": 16,
   "metadata": {},
   "outputs": [],
   "source": [
    "def lr_bs(x, y, size=1):\n",
    "    \"\"\" Linear regression on bootstrap sample\"\"\"\n",
    "\n",
    "    # Set up array of indices to sample from\n",
    "    inds = np.arange(len(x))\n",
    "\n",
    "    # Initialize replicates\n",
    "    bs_slope_reps = np.empty(size)\n",
    "    bs_intercept_reps = np.empty(size)\n",
    "\n",
    "    # Generate replicates\n",
    "    for i in range(size):\n",
    "        bs_inds = np.random.choice(inds, size = len(inds))\n",
    "        bs_x, bs_y = x[bs_inds], y[bs_inds]\n",
    "        bs_slope_reps[i], bs_intercept_reps[i] = np.polyfit(bs_x, bs_y, 1)\n",
    "\n",
    "    return bs_slope_reps, bs_intercept_reps"
   ]
  },
  {
   "cell_type": "code",
   "execution_count": 17,
   "metadata": {},
   "outputs": [
    {
     "name": "stdout",
     "output_type": "stream",
     "text": [
      "1975\n",
      "slope = 0.4652051691605937 conf int = [0.3354252  0.59240274]\n",
      "intercept = 2.3908752365842263 conf int = [0.58548073 4.18894939]\n",
      "\n",
      "2012\n",
      "slope = 0.462630358835313 conf int = [0.33207013 0.59431304]\n",
      "intercept = 2.9772474982360198 conf int = [1.20749054 4.73554573]\n",
      "\n"
     ]
    }
   ],
   "source": [
    "# Create a list to store slope and intercepts computed from the bootstrap data\n",
    "bs_slope_reps = []\n",
    "bs_intercept_reps = []\n",
    "\n",
    "for bl, bd, year in zip(bl_list, bd_list, year_list):\n",
    "    # Train the selected convolutional neural network (JK)\n",
    "    slope, intercept = np.polyfit(bl, bd, 1)\n",
    "\n",
    "    # Draw bootstrap pairs\n",
    "    s, i = lr_bs(bl.values, bd.values, 1000)\n",
    "    \n",
    "    bs_slope_reps.append(s)\n",
    "    bs_intercept_reps.append(i)\n",
    "\n",
    "    # Compute confidence intervals \n",
    "    slope_conf_int = np.percentile(s, [2.5, 97.5])\n",
    "    intercept_conf_int = np.percentile(i, [2.5, 97.5])\n",
    "\n",
    "    # Print results\n",
    "    print(year)\n",
    "    print('slope =', slope, 'conf int =', slope_conf_int)\n",
    "    print('intercept =', intercept, 'conf int =', intercept_conf_int)\n",
    "    print()"
   ]
  },
  {
   "cell_type": "markdown",
   "metadata": {},
   "source": [
    "The 2 linear models have the same slope but different intercepts. Let's plot them."
   ]
  },
  {
   "cell_type": "code",
   "execution_count": 18,
   "metadata": {},
   "outputs": [
    {
     "data": {
      "image/png": "[encoded data removed]",
      "text/plain": [
       "<Figure size 432x288 with 1 Axes>"
      ]
     },
     "metadata": {},
     "output_type": "display_data"
    }
   ],
   "source": [
    "# Generate x-values to plot regression lines\n",
    "x = np.array([10, 17])\n",
    "\n",
    "# Scatter beak lengths and depths\n",
    "for bl, bd, line_color in zip(bl_list, bd_list, line_color_list):\n",
    "    plt.scatter(bl, bd, s = 30, color = line_color)\n",
    "\n",
    "# Plot linear regression lines\n",
    "for slope_list, intercept_list, line_color in zip(bs_slope_reps, bs_intercept_reps, line_color_list):\n",
    "    for i in range(100):\n",
    "        plt.plot(x, \n",
    "                 slope_list[i] * x + intercept_list[i],\n",
    "                 linewidth=0.5, \n",
    "                 alpha=0.2, \n",
    "                 color=line_color)\n",
    "    \n",
    "# Polish\n",
    "plt.xlabel('beak length (mm)')\n",
    "plt.ylabel('beak depth (mm)')\n",
    "plt.legend(('1975', '2012'), loc='upper left')\n",
    "plt.show()"
   ]
  },
  {
   "cell_type": "markdown",
   "metadata": {},
   "source": [
    "#### 2.2.2. Beak length to depth ratio"
   ]
  },
  {
   "cell_type": "code",
   "execution_count": 19,
   "metadata": {},
   "outputs": [
    {
     "name": "stdout",
     "output_type": "stream",
     "text": [
      "1975: average ratio: 1.5788823771858533\n",
      "1975: 99% confidence interval: [1.55687694 1.60128888] \n",
      "\n",
      "2012: average ratio: 1.4658342276847778\n",
      "2012: 99% confidence interval: [1.44383425 1.48787959] \n",
      "\n"
     ]
    }
   ],
   "source": [
    "mean_list = []\n",
    "confint_list = []\n",
    "\n",
    "for bl, bd, year in zip(bl_list, bd_list, year_list):\n",
    "    # Compute length-to-depth ratios\n",
    "    ratio = bl/bd\n",
    "\n",
    "    # Get means\n",
    "    mean_ratio = np.mean(ratio)\n",
    "\n",
    "    # Draw boostrap samples of mean\n",
    "    bs_replicates = draw_bs_reps(ratio, np.mean, 10000)\n",
    "\n",
    "    # Get 99% confidence interval\n",
    "    conf_int = np.percentile(bs_replicates, [0.5, 99.5])\n",
    "    \n",
    "    # Append results\n",
    "    mean_list.append(mean_ratio)\n",
    "    confint_list.append(conf_int)\n",
    "\n",
    "    # Print the results\n",
    "    print('{}: average ratio: {}'.format(year, mean_ratio))\n",
    "    print('{}: 99% confidence interval: {} \\n'.format(year, conf_int))"
   ]
  },
  {
   "cell_type": "code",
   "execution_count": 20,
   "metadata": {},
   "outputs": [
    {
     "data": {
      "image/png": "[encoded data removed]",
      "text/plain": [
       "<Figure size 432x288 with 1 Axes>"
      ]
     },
     "metadata": {},
     "output_type": "display_data"
    }
   ],
   "source": [
    "plt.scatter(mean_list, [1975, 2012])\n",
    "for i, year in zip(range(2), year_list):\n",
    "    plt.plot(confint_list[i], [year]*2, c = 'r')\n",
    "    plt.scatter(mean_list[i], [year], c = 'r')\n",
    "\n",
    "# Polish\n",
    "plt.ylabel('Year')\n",
    "plt.xlabel('Beak length to depth ratio')\n",
    "plt.yticks([1975, 2012])\n",
    "plt.show()"
   ]
  },
  {
   "cell_type": "markdown",
   "metadata": {},
   "source": [
    "It appears that the length/depth ratio decreased in 2012. The confidence intervals did not overlap. Real effect or random chance? Hypothesis testing gives the answer."
   ]
  },
  {
   "cell_type": "markdown",
   "metadata": {},
   "source": [
    "## 3. Heritability"
   ]
  },
  {
   "cell_type": "markdown",
   "metadata": {},
   "source": [
    "Let's analyse how the beak depth are passed on from parents to offsprings."
   ]
  },
  {
   "cell_type": "code",
   "execution_count": 21,
   "metadata": {},
   "outputs": [],
   "source": [
    "def load_herit(file):\n",
    "    frame = pd.read_csv(file)\n",
    "    return frame.iloc[:,0], frame.iloc[:,1]"
   ]
  },
  {
   "cell_type": "code",
   "execution_count": 22,
   "metadata": {},
   "outputs": [],
   "source": [
    "bd_offspring_fortis, bd_parent_fortis = load_herit('scandens_beak_depth_heredity.csv')\n",
    "bd_offspring_scandens, bd_parent_scandens = load_herit('fortis_beak_depth_heredity.csv')"
   ]
  },
  {
   "cell_type": "markdown",
   "metadata": {},
   "source": [
    "### 3.1. EDA"
   ]
  },
  {
   "cell_type": "code",
   "execution_count": 23,
   "metadata": {},
   "outputs": [],
   "source": [
    "# Setup some lists\n",
    "parent_list = [bd_parent_fortis, bd_parent_scandens]\n",
    "offspring_list = [bd_offspring_fortis, bd_offspring_scandens]\n",
    "species_list = ['Fortis', 'Scandens']"
   ]
  },
  {
   "cell_type": "code",
   "execution_count": 24,
   "metadata": {},
   "outputs": [
    {
     "data": {
      "image/png": "[encoded data removed]",
      "text/plain": [
       "<Figure size 432x288 with 1 Axes>"
      ]
     },
     "metadata": {},
     "output_type": "display_data"
    }
   ],
   "source": [
    "alpha = 1\n",
    "for p, o in zip(parent_list, offspring_list):\n",
    "    # Scatter\n",
    "    _ = plt.scatter(p, o, s = 30, alpha = alpha)\n",
    "    alpha -= 0.6\n",
    "\n",
    "# Polish\n",
    "plt.xlabel('parental beak depth (mm)')\n",
    "plt.ylabel('offspring beak depth (mm)')\n",
    "plt.legend(('G. fortis', 'G. scandens'), loc='lower right')\n",
    "plt.show()"
   ]
  },
  {
   "cell_type": "markdown",
   "metadata": {},
   "source": [
    "Scandens data is more diagonally spread, which implies a stronger correlation between offspring and parental beak depths in Scandens. Therefore, it is more likely that Scanden offspring inherit more from their parents than Fortis. Let's formalise it."
   ]
  },
  {
   "cell_type": "markdown",
   "metadata": {},
   "source": [
    "### 3.2. Parameter estimation"
   ]
  },
  {
   "cell_type": "markdown",
   "metadata": {},
   "source": [
    "#### 3.2.1. Correlation"
   ]
  },
  {
   "cell_type": "code",
   "execution_count": 25,
   "metadata": {},
   "outputs": [],
   "source": [
    "def draw_bs_pairs(x, y, func, size=1):\n",
    "    \"\"\" Calculate statistics of a pair bootstrap \"\"\"\n",
    "\n",
    "    # Initialise an array of indices\n",
    "    inds = np.arange(len(x))\n",
    "\n",
    "    # Initialise bootstrap replicates\n",
    "    bs_replicates = np.empty(size)\n",
    "\n",
    "    # Sample\n",
    "    for i in range(size):\n",
    "        bs_inds = np.random.choice(inds, len(inds))\n",
    "        bs_x, bs_y = (x[inds], y[inds])\n",
    "        bs_replicates[i] = func(bs_x, bs_y)\n",
    "\n",
    "    return bs_replicates"
   ]
  },
  {
   "cell_type": "code",
   "execution_count": 26,
   "metadata": {},
   "outputs": [],
   "source": [
    "def get_corr(x, y):\n",
    "    \"\"\" Calculate correlation between 2 array\"\"\"\n",
    "    return np.corrcoef(x,y)[0,1]"
   ]
  },
  {
   "cell_type": "code",
   "execution_count": 27,
   "metadata": {},
   "outputs": [
    {
     "name": "stdout",
     "output_type": "stream",
     "text": [
      "Fortis - Correlation: 0.41170636294012575, 95% confidence interval: [0.41170636 0.41170636]\n",
      "Scandens - Correlation: 0.7283412395518486, 95% confidence interval: [0.72834124 0.72834124]\n"
     ]
    }
   ],
   "source": [
    "# Compute correlation\n",
    "for p, o, s in zip(parent_list, offspring_list, species_list):\n",
    "\n",
    "    r = get_corr(p, o)\n",
    "\n",
    "    # Compute correlation from bootstrap sample\n",
    "    bs_replicates = draw_bs_pairs(p, o, get_corr, 5000)\n",
    "\n",
    "    # Compute 95% confidence intervals\n",
    "    conf_int = np.percentile(bs_replicates, [2.5, 97.5])\n",
    "\n",
    "    # Print results\n",
    "    print('{} - Correlation: {}, 95% confidence interval: {}'.format(s, r, conf_int))"
   ]
  },
  {
   "cell_type": "markdown",
   "metadata": {},
   "source": [
    "There it is. Correlation in Scandens is definitely higher."
   ]
  },
  {
   "cell_type": "markdown",
   "metadata": {},
   "source": [
    "#### 3.2.2. Heritability"
   ]
  },
  {
   "cell_type": "code",
   "execution_count": 28,
   "metadata": {},
   "outputs": [],
   "source": [
    "def get_heritability(parents, offspring):\n",
    "    \"\"\"\n",
    "    Compute the heritability from parent and offspring. \n",
    "    Defined as covariance of the trait in parents and offspring \n",
    "    divided by the variance of the trait in the parents\n",
    "    \"\"\"\n",
    "    \n",
    "    covariance_matrix = np.cov(parents, offspring)\n",
    "    return covariance_matrix[0,1] / covariance_matrix[0,0]"
   ]
  },
  {
   "cell_type": "code",
   "execution_count": 29,
   "metadata": {
    "scrolled": true
   },
   "outputs": [
    {
     "name": "stdout",
     "output_type": "stream",
     "text": [
      "Fortis - Heritability: 0.3090092910233142, 95% confidence interval: [0.30900929 0.30900929]\n",
      "Scandens - Heritability: 0.7229051911438155, 95% confidence interval: [0.72290519 0.72290519]\n"
     ]
    }
   ],
   "source": [
    "for p, o, s in zip(parent_list, offspring_list, species_list):\n",
    "    # Compute heritability\n",
    "    heritability = get_heritability(p, o)\n",
    "\n",
    "    # Compute heritability from samples\n",
    "    heritability_replicates = draw_bs_pairs(p, o, get_heritability, size=1000)\n",
    "\n",
    "    # Compute 95% confidence intervals\n",
    "    conf_int = np.percentile(heritability_replicates, [2.5, 97.5])\n",
    "\n",
    "    # Print results\n",
    "    print('{} - Heritability: {}, 95% confidence interval: {}'.format(s, heritability, conf_int))"
   ]
  },
  {
   "cell_type": "markdown",
   "metadata": {},
   "source": [
    "Again, this show stronger heritability in Scandens."
   ]
  },
  {
   "cell_type": "markdown",
   "metadata": {},
   "source": [
    "### 3.3. Hypothesis testing\n",
    "\n",
    "Let's see if the heritability observed is due to random chance or not. Scandens heritability of 0.7 is quite high, so hypothesis testing is likely to yield statistical significance. Let's do the test for Fortis, which has a much lower value for heritability."
   ]
  },
  {
   "cell_type": "code",
   "execution_count": 31,
   "metadata": {},
   "outputs": [
    {
     "name": "stdout",
     "output_type": "stream",
     "text": [
      "p-value: 0.0\n"
     ]
    }
   ],
   "source": [
    "# Initialize array for replicates\n",
    "perm_replicates = np.empty(10000)\n",
    "\n",
    "# Calculate fortis' heritability\n",
    "heritability_fortis = get_heritability(bd_parent_fortis, bd_offspring_fortis)\n",
    "\n",
    "# Sample\n",
    "for i in range(10000):\n",
    "    # Permute parent beak depths\n",
    "    bd_parent_permuted = np.random.permutation(bd_parent_fortis)\n",
    "    perm_replicates[i] = get_heritability(bd_parent_permuted, bd_offspring_fortis)\n",
    "\n",
    "# Compute p-value\n",
    "p_value = np.sum(perm_replicates >= heritability_fortis) / len(perm_replicates)\n",
    "print('p-value:', p_value)"
   ]
  },
  {
   "cell_type": "markdown",
   "metadata": {},
   "source": [
    "A p-value of 0 indicates statistical significance. We can then conclude that beak depth is heritable in Fortis."
   ]
  },
  {
   "cell_type": "markdown",
   "metadata": {},
   "source": [
    "# Conclusion\n",
    "\n",
    "The findings can be summarised as follow:\n",
    "1. From 1975 to 2012, on average, Scandens beaks got deeper and shorter\n",
    "2. Regarding beak depth, Scandens offsprings inherit more than their parents than Fortis."
   ]
  }
 ],
 "metadata": {
  "kernelspec": {
   "display_name": "Python 3",
   "language": "python",
   "name": "python3"
  },
  "language_info": {
   "codemirror_mode": {
    "name": "ipython",
    "version": 3
   },
   "file_extension": ".py",
   "mimetype": "text/x-python",
   "name": "python",
   "nbconvert_exporter": "python",
   "pygments_lexer": "ipython3",
   "version": "3.6.5"
  }
 },
 "nbformat": 4,
 "nbformat_minor": 2
}
