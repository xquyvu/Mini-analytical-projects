{
 "cells": [
  {
   "cell_type": "markdown",
   "metadata": {},
   "source": [
    "### Import the libraries"
   ]
  },
  {
   "cell_type": "code",
   "execution_count": 8,
   "metadata": {
    "collapsed": true
   },
   "outputs": [],
   "source": [
    "import time\n",
    "import random\n",
    "import numpy as np"
   ]
  },
  {
   "cell_type": "markdown",
   "metadata": {},
   "source": [
    "### Specify the number of trials, cars, and doors"
   ]
  },
  {
   "cell_type": "code",
   "execution_count": 9,
   "metadata": {
    "collapsed": false
   },
   "outputs": [
    {
     "name": "stdout",
     "output_type": "stream",
     "text": [
      "Number of simulations: 1000000\n",
      "Number of cars: 1\n",
      "Number of doors (must be larger than Number of cars by at least 2): 3\n"
     ]
    }
   ],
   "source": [
    "Simulations = int(input('Number of simulations: '))\n",
    "no_Cars = int(input('Number of cars: '))\n",
    "no_Doors = int(input('Number of doors (must be larger than Number of cars by at least 2): '))"
   ]
  },
  {
   "cell_type": "markdown",
   "metadata": {},
   "source": [
    "### Simulate"
   ]
  },
  {
   "cell_type": "code",
   "execution_count": 10,
   "metadata": {
    "collapsed": false
   },
   "outputs": [
    {
     "name": "stdout",
     "output_type": "stream",
     "text": [
      "############################\n",
      "The chance of success is 66.65%\n",
      "Total time elapsed: 37.86 second(s)\n",
      "############################\n"
     ]
    }
   ],
   "source": [
    "start = time.time() \n",
    "\n",
    "# Initialise\n",
    "Win = 0\n",
    "Lose = 0\n",
    "no_Open = no_Doors - no_Cars - 1\n",
    "Doors = ['Goat'] * no_Doors\n",
    "Doors[0:no_Cars] = ['Car']\n",
    "\n",
    "n = 1 # Choosing a random door, let's say door no.1\n",
    "\n",
    "# Simulate\n",
    "for i in zip(range(Simulations)):\n",
    "    # Creating different scenarios\n",
    "    Doors_Unopened = random.sample(Doors,no_Doors)\n",
    "    \n",
    "    # Now you've chosen a door, so it is no longer necessary to consider the door you chose\n",
    "    Doors_Unopened.pop(n-1)\n",
    "    \n",
    "    # The host opens a number of door, behind which are goat(s). This return the index of the doors opened by the host\n",
    "    Doors_Opened_By_Host = [j for j,x in enumerate(Doors_Unopened) if x == 'Goat']\n",
    "    Doors_Opened_By_Host = Doors_Opened_By_Host[0:no_Open]\n",
    "    \n",
    "    # This is the remaining unopened door, which you decide to switch to\n",
    "    Doors_Unopened = np.delete(Doors_Unopened, Doors_Opened_By_Host)\n",
    "    \n",
    "    if Doors_Unopened == 'Goat':\n",
    "        Lose += 1\n",
    "    else:\n",
    "        Win += 1\n",
    "        \n",
    "# Calculate the chance of success\n",
    "A_Success = Win / Simulations * 100\n",
    "\n",
    "# Time elapsed\n",
    "end = time.time()\n",
    "A_elapsed = end - start\n",
    "print('############################')\n",
    "print('The chance of success is {0:.2f}%'.format(A_Success))\n",
    "print('Total time elapsed: {0:.2f} second(s)'.format(A_elapsed))\n",
    "print('############################')"
   ]
  },
  {
   "cell_type": "markdown",
   "metadata": {},
   "source": [
    "### Quick remark\n",
    "For the classic Monty Hall problem, if you choose to switch your choice, the chance of success is approximately 66.66 percent. This is why the strategic move here is to always choose the other unopened door."
   ]
  }
 ],
 "metadata": {
  "kernelspec": {
   "display_name": "Python 3",
   "language": "python",
   "name": "python3"
  },
  "language_info": {
   "codemirror_mode": {
    "name": "ipython",
    "version": 3
   },
   "file_extension": ".py",
   "mimetype": "text/x-python",
   "name": "python",
   "nbconvert_exporter": "python",
   "pygments_lexer": "ipython3",
   "version": "3.6.0"
  }
 },
 "nbformat": 4,
 "nbformat_minor": 2
}
